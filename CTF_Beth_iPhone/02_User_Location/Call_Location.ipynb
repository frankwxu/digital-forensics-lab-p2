{
  "nbformat": 4,
  "nbformat_minor": 0,
  "metadata": {
    "colab": {
      "provenance": []
    },
    "kernelspec": {
      "name": "python3",
      "display_name": "Python 3"
    },
    "language_info": {
      "name": "python"
    }
  },
  "cells": [
    {
      "cell_type": "code",
      "execution_count": 1,
      "metadata": {
        "id": "pbFu6K1-Nefg"
      },
      "outputs": [],
      "source": [
        "import sqlite3\n",
        "from geopy.geocoders import Nominatim\n"
      ]
    },
    {
      "cell_type": "code",
      "source": [
        "def extract_location_name(db_file, target_unix_timestamp):\n",
        "    conn = sqlite3.connect(db_file)\n",
        "    cursor = conn.cursor()\n",
        "\n",
        "    # Query to extract location based on the given UNIX timestamp\n",
        "    query = \"\"\"\n",
        "    SELECT ZLOCATIONLATITUDE, ZLOCATIONLONGITUDE\n",
        "    FROM ZRTLEARNEDLOCATIONOFINTERESTVISITMO\n",
        "    WHERE ? BETWEEN ZENTRYDATE AND ZEXITDATE\n",
        "    \"\"\"\n",
        "\n",
        "    cursor.execute(query, (target_unix_timestamp,))\n",
        "    location_data = cursor.fetchone()\n",
        "\n",
        "    if location_data:\n",
        "        latitude, longitude = location_data\n",
        "        location = get_location_name(latitude, longitude)\n",
        "        print(f\"Location Name: {location}\")\n",
        "    else:\n",
        "        print(\"No location data found for the given timestamp.\")\n",
        "\n",
        "    conn.close()"
      ],
      "metadata": {
        "id": "JBtFYIRLOSk6"
      },
      "execution_count": 2,
      "outputs": []
    },
    {
      "cell_type": "code",
      "source": [
        "def get_location_name(latitude, longitude):\n",
        "    geolocator = Nominatim(user_agent=\"location_explorer\")\n",
        "    location = geolocator.reverse((latitude, longitude))\n",
        "    return location.address if location else \"Unknown\"\n"
      ],
      "metadata": {
        "id": "1fx38YcmOYIF"
      },
      "execution_count": 3,
      "outputs": []
    },
    {
      "cell_type": "code",
      "source": [
        "if __name__ == \"__main__\":\n",
        "    db_file = \"Local.sqlite\"\n",
        "\n",
        "    # Prompt the user to enter the UNIX timestamp\n",
        "    unix_timestamp_input = input(\"Enter the UNIX timestamp: \")\n",
        "\n",
        "    # Validate and use the user input\n",
        "    try:\n",
        "        target_unix_timestamp = float(unix_timestamp_input)\n",
        "    except ValueError:\n",
        "        print(\"Invalid UNIX timestamp.\")\n",
        "    else:\n",
        "        extract_location_name(db_file, target_unix_timestamp)\n"
      ],
      "metadata": {
        "id": "AsZQm0IMOZZv"
      },
      "execution_count": null,
      "outputs": []
    }
  ]
}