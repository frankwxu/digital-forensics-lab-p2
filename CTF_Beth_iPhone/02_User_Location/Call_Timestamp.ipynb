{
  "nbformat": 4,
  "nbformat_minor": 0,
  "metadata": {
    "colab": {
      "provenance": []
    },
    "kernelspec": {
      "name": "python3",
      "display_name": "Python 3"
    },
    "language_info": {
      "name": "python"
    }
  },
  "cells": [
    {
      "cell_type": "code",
      "execution_count": null,
      "metadata": {
        "id": "sfpvZEWBMFn_"
      },
      "outputs": [],
      "source": [
        "import sqlite3\n",
        "from datetime import datetime, timedelta\n",
        "\n",
        "# Function to try to convert BLOB to text if it's not already text\n",
        "def blob_to_text(blob):\n",
        "    try:\n",
        "        return blob.decode('utf-8')\n",
        "    except AttributeError:\n",
        "        return str(blob)\n"
      ]
    },
    {
      "cell_type": "code",
      "source": [
        "# Function to get user input for the contact address\n",
        "def get_user_address():\n",
        "    address = input(\"Enter the contact address: \")\n",
        "    return address\n"
      ],
      "metadata": {
        "id": "zkXJfxz_Mdtu"
      },
      "execution_count": null,
      "outputs": []
    },
    {
      "cell_type": "code",
      "source": [
        "# Function to get user input for the date\n",
        "def get_user_date():\n",
        "    date_str = input(\"Enter the date (YYYY-MM-DD): \")\n",
        "    try:\n",
        "        user_date = datetime.strptime(date_str, '%Y-%m-%d').date()\n",
        "    except ValueError:\n",
        "        print(\"Invalid date format. Please enter the date in YYYY-MM-DD format.\")\n",
        "        return get_user_date()\n",
        "    return user_date\n",
        "\n"
      ],
      "metadata": {
        "id": "gEyu4HXRMiuf"
      },
      "execution_count": null,
      "outputs": []
    },
    {
      "cell_type": "code",
      "source": [
        "# Connect to the SQLite database\n",
        "conn = sqlite3.connect('CallHistory.storedata')\n",
        "cursor = conn.cursor()\n",
        "# Define the query to select ZDATE and ZADDRESS columns\n",
        "query = \"\"\"\n",
        "SELECT ZDATE, ZADDRESS\n",
        "FROM ZCALLRECORD\n",
        "\"\"\"\n",
        "# Execute the query\n",
        "cursor.execute(query)\n",
        "rows = cursor.fetchall()\n"
      ],
      "metadata": {
        "id": "bouwThD1Mr7j"
      },
      "execution_count": null,
      "outputs": []
    },
    {
      "cell_type": "code",
      "source": [
        "# Define the reference date for the timestamps\n",
        "reference_date = datetime(2001, 1, 1)  # Mac Absolute Time reference\n",
        "\n",
        "# Get the date and contact address from the user\n",
        "user_date = get_user_date()\n",
        "user_address = get_user_address()\n"
      ],
      "metadata": {
        "id": "lLVjWBoqM0Ik"
      },
      "execution_count": null,
      "outputs": []
    },
    {
      "cell_type": "code",
      "source": [
        "# Process and print the results\n",
        "for row in rows:\n",
        "    zdate = row[0]\n",
        "    zaddress_blob = row[1]\n",
        "\n",
        "    # Convert ZADDRESS BLOB to text if necessary\n",
        "    zaddress = blob_to_text(zaddress_blob)\n",
        "\n",
        "    call_date = reference_date + timedelta(seconds=zdate)\n",
        "\n",
        "    if call_date.date() == user_date and zaddress == user_address:\n",
        "        print(f\"Call made to {zaddress} on {call_date.strftime('%Y-%m-%d at %H:%M:%S')}\")\n",
        "        print(f\"UNIX Timestamp: {zdate}\")\n",
        "        print(f\"Actual Date-Time: {call_date}\")\n"
      ],
      "metadata": {
        "id": "VoZ1np47M2nE"
      },
      "execution_count": null,
      "outputs": []
    },
    {
      "cell_type": "code",
      "source": [
        "# Close the connection\n",
        "conn.close()\n"
      ],
      "metadata": {
        "id": "0-585G5eM4LG"
      },
      "execution_count": null,
      "outputs": []
    }
  ]
}