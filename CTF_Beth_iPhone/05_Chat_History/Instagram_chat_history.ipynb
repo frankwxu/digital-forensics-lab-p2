{
  "nbformat": 4,
  "nbformat_minor": 0,
  "metadata": {
    "colab": {
      "provenance": []
    },
    "kernelspec": {
      "name": "python3",
      "display_name": "Python 3"
    },
    "language_info": {
      "name": "python"
    }
  },
  "cells": [
    {
      "cell_type": "code",
      "execution_count": 1,
      "metadata": {
        "colab": {
          "base_uri": "https://localhost:8080/",
          "height": 429
        },
        "id": "qBIZgM7KPIFx",
        "outputId": "09b2ce87-8813-4b63-c3c5-d11fc36e934e"
      },
      "outputs": [
        {
          "output_type": "error",
          "ename": "ModuleNotFoundError",
          "evalue": "No module named 'biplist'",
          "traceback": [
            "\u001b[0;31m---------------------------------------------------------------------------\u001b[0m",
            "\u001b[0;31mModuleNotFoundError\u001b[0m                       Traceback (most recent call last)",
            "\u001b[0;32m<ipython-input-1-de71a1ef3eae>\u001b[0m in \u001b[0;36m<cell line: 3>\u001b[0;34m()\u001b[0m\n\u001b[1;32m      1\u001b[0m \u001b[0;32mimport\u001b[0m \u001b[0msqlite3\u001b[0m\u001b[0;34m\u001b[0m\u001b[0;34m\u001b[0m\u001b[0m\n\u001b[1;32m      2\u001b[0m \u001b[0;32mimport\u001b[0m \u001b[0mjson\u001b[0m\u001b[0;34m\u001b[0m\u001b[0;34m\u001b[0m\u001b[0m\n\u001b[0;32m----> 3\u001b[0;31m \u001b[0;32mimport\u001b[0m \u001b[0mbiplist\u001b[0m\u001b[0;34m\u001b[0m\u001b[0;34m\u001b[0m\u001b[0m\n\u001b[0m\u001b[1;32m      4\u001b[0m \u001b[0;32mimport\u001b[0m \u001b[0mlogging\u001b[0m\u001b[0;34m\u001b[0m\u001b[0;34m\u001b[0m\u001b[0m\n",
            "\u001b[0;31mModuleNotFoundError\u001b[0m: No module named 'biplist'",
            "",
            "\u001b[0;31m---------------------------------------------------------------------------\u001b[0;32m\nNOTE: If your import is failing due to a missing package, you can\nmanually install dependencies using either !pip or !apt.\n\nTo view examples of installing some common dependencies, click the\n\"Open Examples\" button below.\n\u001b[0;31m---------------------------------------------------------------------------\u001b[0m\n"
          ],
          "errorDetails": {
            "actions": [
              {
                "action": "open_url",
                "actionText": "Open Examples",
                "url": "/notebooks/snippets/importing_libraries.ipynb"
              }
            ]
          }
        }
      ],
      "source": [
        "import sqlite3\n",
        "import json\n",
        "import biplist\n",
        "import logging\n"
      ]
    },
    {
      "cell_type": "code",
      "source": [
        "# Setup logging\n",
        "logging.basicConfig(level=logging.DEBUG)\n"
      ],
      "metadata": {
        "colab": {
          "base_uri": "https://localhost:8080/",
          "height": 190
        },
        "id": "3s3PipN7PvKV",
        "outputId": "e92f9e25-f359-4cbb-d025-8ca2a0369105"
      },
      "execution_count": 2,
      "outputs": [
        {
          "output_type": "error",
          "ename": "NameError",
          "evalue": "name 'logging' is not defined",
          "traceback": [
            "\u001b[0;31m---------------------------------------------------------------------------\u001b[0m",
            "\u001b[0;31mNameError\u001b[0m                                 Traceback (most recent call last)",
            "\u001b[0;32m<ipython-input-2-6c5df65785fa>\u001b[0m in \u001b[0;36m<cell line: 2>\u001b[0;34m()\u001b[0m\n\u001b[1;32m      1\u001b[0m \u001b[0;31m# Setup logging\u001b[0m\u001b[0;34m\u001b[0m\u001b[0;34m\u001b[0m\u001b[0m\n\u001b[0;32m----> 2\u001b[0;31m \u001b[0mlogging\u001b[0m\u001b[0;34m.\u001b[0m\u001b[0mbasicConfig\u001b[0m\u001b[0;34m(\u001b[0m\u001b[0mlevel\u001b[0m\u001b[0;34m=\u001b[0m\u001b[0mlogging\u001b[0m\u001b[0;34m.\u001b[0m\u001b[0mDEBUG\u001b[0m\u001b[0;34m)\u001b[0m\u001b[0;34m\u001b[0m\u001b[0;34m\u001b[0m\u001b[0m\n\u001b[0m",
            "\u001b[0;31mNameError\u001b[0m: name 'logging' is not defined"
          ]
        }
      ]
    },
    {
      "cell_type": "code",
      "source": [
        "# Function to decode BLOBs if necessary\n",
        "def decode_blob(blob):\n",
        "    try:\n",
        "        return blob.decode('utf-8')\n",
        "    except Exception:\n",
        "        try:\n",
        "            plist = biplist.readPlistFromString(blob)\n",
        "            return plist\n",
        "        except Exception:\n",
        "            return str(blob)\n"
      ],
      "metadata": {
        "id": "HMiovYuAPyBy"
      },
      "execution_count": null,
      "outputs": []
    },
    {
      "cell_type": "code",
      "source": [
        "# Connect to the SQLite database\n",
        "conn = sqlite3.connect('45925726866.db')\n",
        "cursor = conn.cursor()\n",
        "\n",
        "# Fetch all threads\n",
        "cursor.execute(\"SELECT * FROM threads\")\n",
        "threads_data = cursor.fetchall()\n",
        "\n",
        "# Fetch all messages\n",
        "cursor.execute(\"SELECT * FROM messages\")\n",
        "messages_data = cursor.fetchall()\n",
        "\n",
        "# Close the database connection\n",
        "conn.close()\n"
      ],
      "metadata": {
        "id": "SyMnY9p5P1SP"
      },
      "execution_count": null,
      "outputs": []
    },
    {
      "cell_type": "code",
      "source": [
        "# Parse threads into a dictionary\n",
        "threads_dict = {}\n",
        "for thread in threads_data:\n",
        "    thread_id, thread_id_v2, viewer_id, metadata, thread_messages_range, visual_message_info, row_id = thread\n",
        "    threads_dict[thread_id] = {\n",
        "        \"thread_id\": thread_id,\n",
        "        \"thread_id_v2\": thread_id_v2,\n",
        "        \"viewer_id\": viewer_id,\n",
        "        \"metadata\": decode_blob(metadata),\n",
        "        \"thread_messages_range\": decode_blob(thread_messages_range),\n",
        "        \"visual_message_info\": decode_blob(visual_message_info),\n",
        "        \"messages\": []\n",
        "    }\n"
      ],
      "metadata": {
        "id": "BpIxZ9xzP3il"
      },
      "execution_count": null,
      "outputs": []
    },
    {
      "cell_type": "code",
      "source": [
        "# Parse messages and associate them with threads\n",
        "for message in messages_data:\n",
        "    message_id, thread_id, archive, class_name, row_id = message\n",
        "    message_dict = {\n",
        "        \"message_id\": message_id,\n",
        "        \"archive\": decode_blob(archive),\n",
        "        \"class_name\": class_name,\n",
        "        \"row_id\": row_id\n",
        "    }\n",
        "    if thread_id in threads_dict:\n",
        "        threads_dict[thread_id][\"messages\"].append(message_dict)\n",
        "    else:\n",
        "        # Handle the case where the message's thread_id is not found in threads\n",
        "        threads_dict[thread_id] = {\n",
        "            \"thread_id\": thread_id,\n",
        "            \"messages\": [message_dict]\n",
        "        }\n",
        "# Convert the threads dictionary to a JSON structure\n",
        "threads_json = json.dumps(threads_dict, indent=4, default=str)\n"
      ],
      "metadata": {
        "id": "M0w_2YTFQBf8"
      },
      "execution_count": null,
      "outputs": []
    },
    {
      "cell_type": "code",
      "source": [
        "\n",
        "# Save the JSON to a file\n",
        "with open('instagram_threads.json', 'w') as json_file:\n",
        "    json_file.write(threads_json)\n",
        "\n",
        "# Print the JSON structure (optional)\n",
        "print(threads_json)\n"
      ],
      "metadata": {
        "id": "kCLwxKr7QED2"
      },
      "execution_count": null,
      "outputs": []
    }
  ]
}