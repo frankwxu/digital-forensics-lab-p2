{
  "nbformat": 4,
  "nbformat_minor": 0,
  "metadata": {
    "colab": {
      "provenance": []
    },
    "kernelspec": {
      "name": "python3",
      "display_name": "Python 3"
    },
    "language_info": {
      "name": "python"
    }
  },
  "cells": [
    {
      "cell_type": "code",
      "execution_count": null,
      "metadata": {
        "id": "al8CM_w5Nigs"
      },
      "outputs": [],
      "source": [
        "import sqlite3\n",
        "import json\n"
      ]
    },
    {
      "cell_type": "code",
      "source": [
        "# Function to decode BLOBs if necessary\n",
        "def decode_blob(blob):\n",
        "    try:\n",
        "        return blob.decode('utf-8')\n",
        "    except Exception:\n",
        "        return str(blob)"
      ],
      "metadata": {
        "id": "taEcJNH8kDM4"
      },
      "execution_count": null,
      "outputs": []
    },
    {
      "cell_type": "code",
      "source": [
        "\n",
        "# Connect to the SQLite database\n",
        "conn = sqlite3.connect('45925726866.db')\n",
        "cursor = conn.cursor()\n",
        "\n",
        "# Fetch all threads\n",
        "cursor.execute(\"SELECT * FROM threads\")\n",
        "threads_data = cursor.fetchall()\n",
        "\n",
        "# Fetch all messages\n",
        "cursor.execute(\"SELECT * FROM messages\")\n",
        "messages_data = cursor.fetchall()\n",
        "\n",
        "# Close the database connection\n",
        "conn.close()"
      ],
      "metadata": {
        "id": "dkn957TIkTvG"
      },
      "execution_count": null,
      "outputs": []
    },
    {
      "cell_type": "code",
      "source": [
        "# Parse threads into a dictionary\n",
        "threads_dict = {}\n",
        "for thread in threads_data:\n",
        "    thread_id, thread_id_v2, viewer_id, metadata, thread_messages_range, visual_message_info, row_id = thread\n",
        "    threads_dict[thread_id] = {\n",
        "        \"thread_id\": thread_id,\n",
        "        \"thread_id_v2\": thread_id_v2,\n",
        "        \"viewer_id\": viewer_id,\n",
        "        \"metadata\": decode_blob(metadata),\n",
        "        \"thread_messages_range\": decode_blob(thread_messages_range),\n",
        "        \"visual_message_info\": decode_blob(visual_message_info),\n",
        "        \"messages\": []\n",
        "    }"
      ],
      "metadata": {
        "id": "u0bdr-65kYX_"
      },
      "execution_count": null,
      "outputs": []
    },
    {
      "cell_type": "code",
      "source": [
        "# Parse messages and associate them with threads\n",
        "for message in messages_data:\n",
        "    message_id, thread_id, archive, class_name, row_id = message\n",
        "    message_dict = {\n",
        "        \"message_id\": message_id,\n",
        "        \"archive\": decode_blob(archive),\n",
        "        \"class_name\": class_name,\n",
        "        \"row_id\": row_id\n",
        "    }\n",
        "    if thread_id in threads_dict:\n",
        "        threads_dict[thread_id][\"messages\"].append(message_dict)\n",
        "    else:\n",
        "        # Handle the case where the message's thread_id is not found in threads\n",
        "        threads_dict[thread_id] = {\n",
        "            \"thread_id\": thread_id,\n",
        "            \"messages\": [message_dict]\n",
        "        }"
      ],
      "metadata": {
        "id": "TAbiztgwkcE6"
      },
      "execution_count": null,
      "outputs": []
    },
    {
      "cell_type": "code",
      "source": [
        "# Convert the threads dictionary to a JSON structure\n",
        "threads_json = json.dumps(threads_dict, indent=4)\n",
        "\n",
        "# Save the JSON to a file\n",
        "with open('instagram_threads.json', 'w') as json_file:\n",
        "    json_file.write(threads_json)\n",
        "\n",
        "# Print the JSON structure (optional)\n",
        "print(threads_json)"
      ],
      "metadata": {
        "id": "Lt1nRjmmkgmF"
      },
      "execution_count": null,
      "outputs": []
    }
  ]
}